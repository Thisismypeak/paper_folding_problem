{
 "cells": [
  {
   "cell_type": "markdown",
   "id": "ff20fe0e-ed56-4ae7-a710-9cb4968b5ead",
   "metadata": {},
   "source": [
    "#### [Problem 1] Confirmation of competition contents"
   ]
  },
  {
   "cell_type": "code",
   "execution_count": 108,
   "id": "b1461c9c-bfd5-4a13-88e1-c251d82846ce",
   "metadata": {},
   "outputs": [],
   "source": [
    "import gc\n",
    "import joblib\n",
    "import warnings\n",
    "import pandas as pd\n",
    "import numpy as np\n",
    "from tqdm import tqdm\n",
    "from scipy import stats\n",
    "from sklearn.svm import SVC\n",
    "from sklearn.metrics import roc_auc_score\n",
    "from sklearn.linear_model import LogisticRegression\n",
    "from sklearn.neighbors import KNeighborsClassifier\n",
    "from sklearn.tree import DecisionTreeClassifier\n",
    "from sklearn.ensemble import (RandomForestClassifier,\n",
    "                              GradientBoostingClassifier)\n",
    "from sklearn.model_selection import StratifiedKFold\n",
    "from sklearn.preprocessing import LabelEncoder\n",
    "\n",
    "warnings.filterwarnings('ignore')\n",
    "\n",
    "gc.enable()"
   ]
  },
  {
   "cell_type": "markdown",
   "id": "2446f453-c1ca-40de-8b24-c80d4752adec",
   "metadata": {},
   "source": [
    "#### [Problem 2] Learning and verification"
   ]
  },
  {
   "cell_type": "code",
   "execution_count": 113,
   "id": "b154e971-44b4-4436-9a31-b6804e5210a6",
   "metadata": {},
   "outputs": [
    {
     "data": {
      "text/plain": [
       "7764"
      ]
     },
     "execution_count": 113,
     "metadata": {},
     "output_type": "execute_result"
    }
   ],
   "source": [
    "# Data load \n",
    "\n",
    "\n",
    "DEBUG = False\n",
    "REMOVE_OUTLIERS=True\n",
    "\n",
    "if DEBUG:\n",
    "    train_df = pd.read_csv('data/application_train.csv', nrows=1000)\n",
    "    test_df = pd.read_csv('data/application_test.csv', nrows=1000)\n",
    "else:\n",
    "    train_df = pd.read_csv('data/application_train.csv')\n",
    "    test_df = pd.read_csv('data/application_test.csv')\n",
    "\n",
    "train_df['isTrain'] = 'Train'\n",
    "test_df['isTrain'] = 'Test'\n",
    "\n",
    "test_df['TARGET'] = np.nan\n",
    "\n",
    "df = pd.concat([train_df, test_df[train_df.columns]], axis=0)\n",
    "df = df.reset_index(drop=True)\n",
    "\n",
    "del train_df, test_df\n",
    "gc.collect()"
   ]
  },
  {
   "cell_type": "code",
   "execution_count": 114,
   "id": "54fc22fb-5a5a-4334-83ac-fa5575caab7d",
   "metadata": {},
   "outputs": [
    {
     "data": {
      "text/plain": [
       "(356255, 123)"
      ]
     },
     "execution_count": 114,
     "metadata": {},
     "output_type": "execute_result"
    }
   ],
   "source": [
    "df.shape"
   ]
  },
  {
   "cell_type": "markdown",
   "id": "e55f4c1f-851e-4429-a4de-d08c25ac873a",
   "metadata": {},
   "source": [
    "#### [Problem 4] Feature engineering"
   ]
  },
  {
   "cell_type": "code",
   "execution_count": 117,
   "id": "a6b81ac8-385e-4325-af9b-7c0e09eeb2e5",
   "metadata": {},
   "outputs": [
    {
     "name": "stdout",
     "output_type": "stream",
     "text": [
      "Number of cat cols: 58\n",
      "Number of numerical cols: 62\n"
     ]
    }
   ],
   "source": [
    "# Data preprocessing\n",
    "num_cols = []\n",
    "cat_cols = []\n",
    "should_be_encode = []\n",
    "not_useful_cols = ['SK_ID_CURR', 'TARGET', 'isTrain']\n",
    "\n",
    "for col in df.columns:\n",
    "    if col not in not_useful_cols:\n",
    "        unique_len = len(df[col].unique())\n",
    "        data_type = df[col].dtype\n",
    "\n",
    "        if unique_len<=20 and data_type!=\"object\":\n",
    "            cat_cols.append(col)\n",
    "        elif data_type=='object':\n",
    "            should_be_encode.append(col)\n",
    "        else:\n",
    "            num_cols.append(col)\n",
    "\n",
    "print('Number of cat cols:', len(cat_cols+should_be_encode))\n",
    "print('Number of numerical cols:', len(num_cols))"
   ]
  },
  {
   "cell_type": "code",
   "execution_count": 118,
   "id": "527b9e9f-308c-46ca-873a-c02201f378b8",
   "metadata": {},
   "outputs": [],
   "source": [
    "# Fill missing values\n",
    "missing_values = {}\n",
    "for col in num_cols:\n",
    "    num_missing_values = df[col].isnull().sum()\n",
    "    if num_missing_values>0:\n",
    "        df[col] = df[col].fillna(np.nanmean(df[col].values))\n",
    "        missing_values[col] = np.nanmean(df[col].values)"
   ]
  },
  {
   "cell_type": "code",
   "execution_count": 119,
   "id": "8fc64870-a21d-48d1-a60e-e26a72c42cb7",
   "metadata": {},
   "outputs": [
    {
     "data": {
      "text/plain": [
       "{'AMT_ANNUITY': 27425.560656506248,\n",
       " 'AMT_GOODS_PRICE': 528019.9978004196,\n",
       " 'OWN_CAR_AGE': 12.023741054753998,\n",
       " 'EXT_SOURCE_1': 0.5019647173606229,\n",
       " 'EXT_SOURCE_2': 0.5148899751498333,\n",
       " 'EXT_SOURCE_3': 0.5093502021860116,\n",
       " 'APARTMENTS_AVG': 0.11813799565530579,\n",
       " 'BASEMENTAREA_AVG': 0.08867263218785101,\n",
       " 'YEARS_BEGINEXPLUATATION_AVG': 0.977889190913453,\n",
       " 'YEARS_BUILD_AVG': 0.7522831436693929,\n",
       " 'COMMONAREA_AVG': 0.045045127207006805,\n",
       " 'ELEVATORS_AVG': 0.07981886765365634,\n",
       " 'ENTRANCES_AVG': 0.15001510278440014,\n",
       " 'FLOORSMAX_AVG': 0.2273310098158009,\n",
       " 'FLOORSMIN_AVG': 0.2328165692549523,\n",
       " 'LANDAREA_AVG': 0.06645421391779162,\n",
       " 'LIVINGAPARTMENTS_AVG': 0.10149499540944239,\n",
       " 'LIVINGAREA_AVG': 0.10808933183069531,\n",
       " 'NONLIVINGAPARTMENTS_AVG': 0.008868181984386712,\n",
       " 'NONLIVINGAREA_AVG': 0.02850312046308469,\n",
       " 'APARTMENTS_MODE': 0.11491437095520877,\n",
       " 'BASEMENTAREA_MODE': 0.08774972119646735,\n",
       " 'YEARS_BEGINEXPLUATATION_MODE': 0.9772385752922698,\n",
       " 'YEARS_BUILD_MODE': 0.7594524439553474,\n",
       " 'COMMONAREA_MODE': 0.0429304796329765,\n",
       " 'ELEVATORS_MODE': 0.07534643816360101,\n",
       " 'ENTRANCES_MODE': 0.14547112253160002,\n",
       " 'FLOORSMAX_MODE': 0.22331479818135327,\n",
       " 'FLOORSMIN_MODE': 0.2288777849184086,\n",
       " 'LANDAREA_MODE': 0.06509245517876915,\n",
       " 'LIVINGAPARTMENTS_MODE': 0.1063818328683923,\n",
       " 'LIVINGAREA_MODE': 0.10664057290878201,\n",
       " 'NONLIVINGAPARTMENTS_MODE': 0.008115959741850557,\n",
       " 'NONLIVINGAREA_MODE': 0.027183161462779378,\n",
       " 'APARTMENTS_MEDI': 0.11854904116115642,\n",
       " 'BASEMENTAREA_MEDI': 0.08817830982504994,\n",
       " 'YEARS_BEGINEXPLUATATION_MEDI': 0.9779032754972954,\n",
       " 'YEARS_BUILD_MEDI': 0.7555483438794822,\n",
       " 'COMMONAREA_MEDI': 0.044994403818527255,\n",
       " 'ELEVATORS_MEDI': 0.07893034245551069,\n",
       " 'ENTRANCES_MEDI': 0.14949398981152442,\n",
       " 'FLOORSMAX_MEDI': 0.2269220577609303,\n",
       " 'FLOORSMIN_MEDI': 0.23250437614527508,\n",
       " 'LANDAREA_MEDI': 0.0672956069348261,\n",
       " 'LIVINGAPARTMENTS_MEDI': 0.10267445972668529,\n",
       " 'LIVINGAREA_MEDI': 0.10927921705830572,\n",
       " 'NONLIVINGAPARTMENTS_MEDI': 0.008697156151160026,\n",
       " 'NONLIVINGAREA_MEDI': 0.028385637644947614,\n",
       " 'TOTALAREA_MODE': 0.10319287473002153,\n",
       " 'OBS_30_CNT_SOCIAL_CIRCLE': 1.4257288044931797,\n",
       " 'OBS_60_CNT_SOCIAL_CIRCLE': 1.4094677721315862,\n",
       " 'DAYS_LAST_PHONE_CHANGE': -978.5808524255165,\n",
       " 'AMT_REQ_CREDIT_BUREAU_MON': 0.23169747997162177,\n",
       " 'AMT_REQ_CREDIT_BUREAU_YEAR': 1.9115641410231068}"
      ]
     },
     "execution_count": 119,
     "metadata": {},
     "output_type": "execute_result"
    }
   ],
   "source": [
    "missing_values"
   ]
  },
  {
   "cell_type": "code",
   "execution_count": 120,
   "id": "270255ac-c092-4de2-bd85-568e1b9d172a",
   "metadata": {},
   "outputs": [],
   "source": [
    "# Fill missing values and encoding \n",
    "for col in should_be_encode:\n",
    "    num_missing_values = df[col].isnull().sum()\n",
    "    if num_missing_values > 0:\n",
    "        df[col] = df[col].fillna(df[col].mode())\n",
    "        missing_values[col] = (df[col].mode())"
   ]
  },
  {
   "cell_type": "code",
   "execution_count": 121,
   "id": "aa6bf60d-cf3d-4fb3-a102-7bcec4ea1b2a",
   "metadata": {},
   "outputs": [],
   "source": [
    "# Fill categorical variables\n",
    "\n",
    "for col in cat_cols:\n",
    "    num_missing_values = df[col].isnull().sum()\n",
    "    if num_missing_values > 0:\n",
    "        df[col] = df[col].fillna(df[col].median())\n",
    "        missing_values[col] = (df[col].median())"
   ]
  },
  {
   "cell_type": "code",
   "execution_count": 123,
   "id": "483d432a-1062-435a-a788-e2c7f206947c",
   "metadata": {},
   "outputs": [
    {
     "data": {
      "text/plain": [
       "['data/utils/missing_values.pkl']"
      ]
     },
     "execution_count": 123,
     "metadata": {},
     "output_type": "execute_result"
    }
   ],
   "source": [
    "joblib.dump(missing_values, 'data/utils/missing_values.pkl')"
   ]
  },
  {
   "cell_type": "code",
   "execution_count": 124,
   "id": "de398281-aa74-432f-85a1-6552d128421e",
   "metadata": {},
   "outputs": [
    {
     "data": {
      "text/plain": [
       "['data/utils/encoders.pkl']"
      ]
     },
     "execution_count": 124,
     "metadata": {},
     "output_type": "execute_result"
    }
   ],
   "source": [
    "# Label encoding\n",
    "\n",
    "encoders = {}\n",
    "for col in should_be_encode:\n",
    "    encoder = LabelEncoder().fit(df[col])\n",
    "    encoders[col] = encoder\n",
    "    df[col] = encoder.transform(df[col])\n",
    "\n",
    "joblib.dump(encoders, \"data/utils/encoders.pkl\",)"
   ]
  },
  {
   "cell_type": "code",
   "execution_count": 125,
   "id": "91a05c4b-de22-4072-99ef-d3e360a6a119",
   "metadata": {},
   "outputs": [
    {
     "data": {
      "text/plain": [
       "0"
      ]
     },
     "execution_count": 125,
     "metadata": {},
     "output_type": "execute_result"
    }
   ],
   "source": [
    "# Verify\n",
    "\n",
    "for col in cat_cols+should_be_encode+num_cols:\n",
    "    if df[col].isnull().sum()>0:\n",
    "        print(col, df[col].dtype, df[col].isnull().sum())\n",
    "\n",
    "cat_cols = cat_cols + should_be_encode\n",
    "del should_be_encode\n",
    "gc.collect()"
   ]
  },
  {
   "cell_type": "code",
   "execution_count": 126,
   "id": "d29290cd-9096-4175-814e-a1adee45ceb3",
   "metadata": {},
   "outputs": [
    {
     "name": "stderr",
     "output_type": "stream",
     "text": [
      "  0%|                                                                                           | 0/58 [00:00<?, ?it/s]\n",
      "100%|█████████████████████████████████████████████████████████████████████████████████| 16/16 [00:00<00:00, 463.42it/s]\u001b[A\n",
      "\n",
      "100%|███████████████████████████████████████████████████████████████████████████████████| 2/2 [00:00<00:00, 666.40it/s]\u001b[A\n",
      "\n",
      "100%|███████████████████████████████████████████████████████████████████████████████████| 2/2 [00:00<00:00, 444.15it/s]\u001b[A\n",
      "\n",
      "100%|███████████████████████████████████████████████████████████████████████████████████| 2/2 [00:00<00:00, 285.74it/s]\u001b[A\n",
      "\n",
      "100%|███████████████████████████████████████████████████████████████████████████████████| 2/2 [00:00<00:00, 400.03it/s]\u001b[A\n",
      "\n",
      "100%|███████████████████████████████████████████████████████████████████████████████████| 2/2 [00:00<00:00, 399.97it/s]\u001b[A\n",
      "\n",
      "100%|███████████████████████████████████████████████████████████████████████████████████| 2/2 [00:00<00:00, 500.10it/s]\u001b[A\n",
      "\n",
      "100%|█████████████████████████████████████████████████████████████████████████████████| 18/18 [00:00<00:00, 486.54it/s]\u001b[A\n",
      " 14%|███████████▍                                                                       | 8/58 [00:00<00:00, 60.13it/s]\n",
      "100%|███████████████████████████████████████████████████████████████████████████████████| 3/3 [00:00<00:00, 333.41it/s]\u001b[A\n",
      "\n",
      "100%|███████████████████████████████████████████████████████████████████████████████████| 4/4 [00:00<00:00, 333.33it/s]\u001b[A\n",
      "\n",
      "100%|███████████████████████████████████████████████████████████████████████████████████| 2/2 [00:00<00:00, 400.01it/s]\u001b[A\n",
      "\n",
      "100%|███████████████████████████████████████████████████████████████████████████████████| 2/2 [00:00<00:00, 285.81it/s]\u001b[A\n",
      "\n",
      "100%|███████████████████████████████████████████████████████████████████████████████████| 2/2 [00:00<00:00, 400.11it/s]\u001b[A\n",
      "\n",
      "100%|███████████████████████████████████████████████████████████████████████████████████| 2/2 [00:00<00:00, 500.24it/s]\u001b[A\n",
      "\n",
      "100%|███████████████████████████████████████████████████████████████████████████████████| 2/2 [00:00<00:00, 250.01it/s]\u001b[A\n",
      "\n",
      "100%|███████████████████████████████████████████████████████████████████████████████████| 2/2 [00:00<00:00, 250.00it/s]\u001b[A\n",
      " 28%|██████████████████████▌                                                           | 16/58 [00:00<00:00, 70.23it/s]\n",
      "100%|█████████████████████████████████████████████████████████████████████████████████| 10/10 [00:00<00:00, 540.40it/s]\u001b[A\n",
      "\n",
      "100%|███████████████████████████████████████████████████████████████████████████████████| 9/9 [00:00<00:00, 750.17it/s]\u001b[A\n",
      "\n",
      "100%|███████████████████████████████████████████████████████████████████████████████████| 2/2 [00:00<00:00, 667.51it/s]\u001b[A\n",
      "\n",
      "100%|███████████████████████████████████████████████████████████████████████████████████| 2/2 [00:00<00:00, 200.00it/s]\u001b[A\n",
      "\n",
      "100%|███████████████████████████████████████████████████████████████████████████████████| 2/2 [00:00<00:00, 333.45it/s]\u001b[A\n",
      "\n",
      "100%|███████████████████████████████████████████████████████████████████████████████████| 2/2 [00:00<00:00, 400.03it/s]\u001b[A\n",
      "\n",
      "100%|███████████████████████████████████████████████████████████████████████████████████| 2/2 [00:00<00:00, 285.60it/s]\u001b[A\n",
      "\n",
      "100%|███████████████████████████████████████████████████████████████████████████████████| 2/2 [00:00<00:00, 363.36it/s]\u001b[A\n",
      " 41%|█████████████████████████████████▉                                                | 24/58 [00:00<00:00, 69.10it/s]\n",
      "100%|███████████████████████████████████████████████████████████████████████████████████| 2/2 [00:00<00:00, 333.36it/s]\u001b[A\n",
      "\n",
      "100%|███████████████████████████████████████████████████████████████████████████████████| 2/2 [00:00<00:00, 499.77it/s]\u001b[A\n",
      "\n",
      "100%|███████████████████████████████████████████████████████████████████████████████████| 2/2 [00:00<00:00, 400.20it/s]\u001b[A\n",
      "\n",
      "100%|███████████████████████████████████████████████████████████████████████████████████| 2/2 [00:00<00:00, 500.60it/s]\u001b[A\n",
      "\n",
      "100%|███████████████████████████████████████████████████████████████████████████████████| 2/2 [00:00<00:00, 400.14it/s]\u001b[A\n",
      "\n",
      "100%|███████████████████████████████████████████████████████████████████████████████████| 2/2 [00:00<00:00, 667.40it/s]\u001b[A\n",
      "\n",
      "100%|███████████████████████████████████████████████████████████████████████████████████| 2/2 [00:00<00:00, 666.29it/s]\u001b[A\n",
      "\n",
      "100%|███████████████████████████████████████████████████████████████████████████████████| 2/2 [00:00<00:00, 500.22it/s]\u001b[A\n",
      "\n",
      "100%|███████████████████████████████████████████████████████████████████████████████████| 2/2 [00:00<00:00, 499.68it/s]\u001b[A\n",
      "\n",
      "100%|███████████████████████████████████████████████████████████████████████████████████| 2/2 [00:00<00:00, 400.14it/s]\u001b[A\n",
      "\n",
      "100%|███████████████████████████████████████████████████████████████████████████████████| 2/2 [00:00<00:00, 666.03it/s]\u001b[A\n",
      " 60%|█████████████████████████████████████████████████▍                                | 35/58 [00:00<00:00, 83.08it/s]\n",
      "100%|███████████████████████████████████████████████████████████████████████████████████| 2/2 [00:00<00:00, 333.48it/s]\u001b[A\n",
      "\n",
      "100%|███████████████████████████████████████████████████████████████████████████████████| 2/2 [00:00<00:00, 333.34it/s]\u001b[A\n",
      "\n",
      "100%|███████████████████████████████████████████████████████████████████████████████████| 2/2 [00:00<00:00, 285.73it/s]\u001b[A\n",
      "\n",
      "100%|███████████████████████████████████████████████████████████████████████████████████| 5/5 [00:00<00:00, 416.76it/s]\u001b[A\n",
      "\n",
      "100%|███████████████████████████████████████████████████████████████████████████████████| 9/9 [00:00<00:00, 500.03it/s]\u001b[A\n",
      "\n",
      "100%|███████████████████████████████████████████████████████████████████████████████████| 9/9 [00:00<00:00, 580.53it/s]\u001b[A\n",
      "\n",
      "100%|█████████████████████████████████████████████████████████████████████████████████| 11/11 [00:00<00:00, 478.25it/s]\u001b[A\n",
      "\n",
      "100%|███████████████████████████████████████████████████████████████████████████████████| 2/2 [00:00<00:00, 333.52it/s]\u001b[A\n",
      "\n",
      "100%|███████████████████████████████████████████████████████████████████████████████████| 3/3 [00:00<00:00, 300.01it/s]\u001b[A\n",
      " 76%|██████████████████████████████████████████████████████████████▏                   | 44/58 [00:00<00:00, 69.54it/s]\n",
      "100%|███████████████████████████████████████████████████████████████████████████████████| 2/2 [00:00<00:00, 200.07it/s]\u001b[A\n",
      "\n",
      "100%|███████████████████████████████████████████████████████████████████████████████████| 2/2 [00:00<00:00, 137.89it/s]\u001b[A\n",
      "\n",
      "100%|███████████████████████████████████████████████████████████████████████████████████| 8/8 [00:00<00:00, 363.65it/s]\u001b[A\n",
      "\n",
      "100%|███████████████████████████████████████████████████████████████████████████████████| 8/8 [00:00<00:00, 380.98it/s]\u001b[A\n",
      "\n",
      "100%|███████████████████████████████████████████████████████████████████████████████████| 5/5 [00:00<00:00, 357.19it/s]\u001b[A\n",
      "\n",
      "100%|███████████████████████████████████████████████████████████████████████████████████| 6/6 [00:00<00:00, 342.79it/s]\u001b[A\n",
      "\n",
      "100%|███████████████████████████████████████████████████████████████████████████████████| 6/6 [00:00<00:00, 461.55it/s]\u001b[A\n",
      "\n",
      "100%|█████████████████████████████████████████████████████████████████████████████████| 19/19 [00:00<00:00, 475.03it/s]\u001b[A\n",
      " 90%|█████████████████████████████████████████████████████████████████████████▌        | 52/58 [00:00<00:00, 56.92it/s]\n",
      "100%|███████████████████████████████████████████████████████████████████████████████████| 7/7 [00:00<00:00, 333.35it/s]\u001b[A\n",
      "\n",
      "  0%|                                                                                           | 0/58 [00:00<?, ?it/s]\u001b[A\n",
      "100%|█████████████████████████████████████████████████████████████████████████████████| 58/58 [00:00<00:00, 522.46it/s]\u001b[A\n",
      "\n",
      "100%|███████████████████████████████████████████████████████████████████████████████████| 5/5 [00:00<00:00, 454.55it/s]\u001b[A\n",
      "\n",
      "100%|███████████████████████████████████████████████████████████████████████████████████| 4/4 [00:00<00:00, 235.30it/s]\u001b[A\n",
      "\n",
      "100%|███████████████████████████████████████████████████████████████████████████████████| 8/8 [00:00<00:00, 363.64it/s]\u001b[A\n",
      "\n",
      "100%|███████████████████████████████████████████████████████████████████████████████████| 3/3 [00:00<00:00, 272.72it/s]\u001b[A\n",
      "100%|██████████████████████████████████████████████████████████████████████████████████| 58/58 [00:01<00:00, 55.68it/s]\n"
     ]
    },
    {
     "data": {
      "text/plain": [
       "9"
      ]
     },
     "execution_count": 126,
     "metadata": {},
     "output_type": "execute_result"
    }
   ],
   "source": [
    "# Onehot encoding\n",
    "\n",
    "dummy_cols = []\n",
    "map_dummy = {}\n",
    "for col in tqdm(cat_cols, total=len(cat_cols)):\n",
    "    for value in tqdm(df[col].unique()):\n",
    "        df[f'dummy_{col}_{value}'] = 0\n",
    "        df.loc[df[col]==value, f'dummy_{col}_{value}'] = 1\n",
    "        dummy_cols.append(f'dummy_{col}_{value}')\n",
    "        map_dummy[col] = f\"dummy_{col}_{value}\"\n",
    "\n",
    "joblib.dump(map_dummy, 'data/utils/map_dummy.pkl')\n",
    "\n",
    "del cat_cols\n",
    "gc.collect()"
   ]
  },
  {
   "cell_type": "code",
   "execution_count": 127,
   "id": "e67d2b94-f61b-4a19-a19f-073138a76156",
   "metadata": {},
   "outputs": [
    {
     "data": {
      "text/plain": [
       "(356255, 427)"
      ]
     },
     "execution_count": 127,
     "metadata": {},
     "output_type": "execute_result"
    }
   ],
   "source": [
    "df.shape"
   ]
  },
  {
   "cell_type": "code",
   "execution_count": 128,
   "id": "32c74f9f-12a5-491c-b85b-0e123d4797eb",
   "metadata": {},
   "outputs": [
    {
     "data": {
      "text/plain": [
       "0"
      ]
     },
     "execution_count": 128,
     "metadata": {},
     "output_type": "execute_result"
    }
   ],
   "source": [
    "# Outlier remove\n",
    "train_df = df.loc[df['isTrain']=='Train'].reset_index(drop=True)\n",
    "test_df = df.loc[df['isTrain']=='Test'].reset_index(drop=True)\n",
    "\n",
    "del df\n",
    "gc.collect()"
   ]
  },
  {
   "cell_type": "code",
   "execution_count": 129,
   "id": "7aa8411f-69be-4dbd-844a-7145253c9df0",
   "metadata": {},
   "outputs": [
    {
     "data": {
      "text/plain": [
       "['data/utils/dummy_cols.pkl']"
      ]
     },
     "execution_count": 129,
     "metadata": {},
     "output_type": "execute_result"
    }
   ],
   "source": [
    "outlier_idx = []\n",
    "for col in num_cols:\n",
    "    z_score = stats.zscore(train_df[col])\n",
    "    outlier_idx = outlier_idx + list(train_df.loc[(np.abs(z_score)>3)].index)\n",
    "\n",
    "outlier_idx = list(set(outlier_idx))\n",
    "\n",
    "if REMOVE_OUTLIERS:\n",
    "    train_df = train_df.drop(index=outlier_idx,\n",
    "                             axis=0).reset_index(drop=True)\n",
    "\n",
    "joblib.dump(num_cols, 'data/utils/num_cols.pkl')\n",
    "joblib.dump(dummy_cols, 'data/utils/dummy_cols.pkl')"
   ]
  },
  {
   "cell_type": "code",
   "execution_count": 130,
   "id": "c1361b09-be99-414c-ad45-a03308a0c53b",
   "metadata": {},
   "outputs": [
    {
     "name": "stdout",
     "output_type": "stream",
     "text": [
      "Class ratio = 0.08373467777008199\n"
     ]
    }
   ],
   "source": [
    "print(f\"Class ratio = {train_df['TARGET'].sum()/train_df.shape[0]}\" )"
   ]
  },
  {
   "cell_type": "code",
   "execution_count": 131,
   "id": "e3754ea4-4ea0-4600-973d-9d90e4f2b960",
   "metadata": {},
   "outputs": [
    {
     "name": "stdout",
     "output_type": "stream",
     "text": [
      "FOLD-0: AUC score=0.613\n",
      "FOLD-1: AUC score=0.617\n",
      "FOLD-2: AUC score=0.613\n",
      "FOLD-3: AUC score=0.624\n",
      "FOLD-4: AUC score=0.624\n"
     ]
    },
    {
     "data": {
      "text/plain": [
       "['data/utils/models.pkl']"
      ]
     },
     "execution_count": 131,
     "metadata": {},
     "output_type": "execute_result"
    }
   ],
   "source": [
    "# Modelling\n",
    "\n",
    "skf = StratifiedKFold(n_splits=5,\n",
    "                      shuffle=True,\n",
    "                      random_state=42)\n",
    "\n",
    "models = []\n",
    "for fold, (train_idx, val_idx) in enumerate(skf.split(train_df,\n",
    "                                                      train_df['TARGET'],\n",
    "                                                      groups=train_df['TARGET'])):\n",
    "    train_set = train_df.loc[train_idx]\n",
    "    val_set = train_df.loc[val_idx]\n",
    "\n",
    "    model = LogisticRegression().fit(train_set[num_cols+dummy_cols],\n",
    "                                     train_set['TARGET'])\n",
    "    models.append(model)\n",
    "\n",
    "    y_pred = model.predict_proba(val_set[num_cols+dummy_cols])[:, 1]\n",
    "\n",
    "    auc_score = roc_auc_score(val_set['TARGET'], y_pred)\n",
    "    print(f\"FOLD-{fold}: AUC score={np.round(auc_score, 3)}\")\n",
    "\n",
    "joblib.dump(models, 'data/utils/models.pkl')"
   ]
  },
  {
   "cell_type": "markdown",
   "id": "6d1fa360-1127-4465-9097-537030e06bdb",
   "metadata": {},
   "source": [
    "#### [Problem 3] Estimation on test data"
   ]
  },
  {
   "cell_type": "markdown",
   "id": "5d32b86a-f9f1-468b-879a-bfdf8849b3ae",
   "metadata": {},
   "source": [
    "##### Inference"
   ]
  },
  {
   "cell_type": "code",
   "execution_count": 115,
   "id": "6ec47df8-f942-4a11-8da4-4ab41e6f266d",
   "metadata": {},
   "outputs": [],
   "source": [
    "test_df = pd.read_csv('data/application_test.csv')"
   ]
  },
  {
   "cell_type": "code",
   "execution_count": 116,
   "id": "4c0b2fc4-4806-4b73-a7fb-074c531283ec",
   "metadata": {},
   "outputs": [
    {
     "name": "stderr",
     "output_type": "stream",
     "text": [
      "  0%|                                                                                           | 0/58 [00:00<?, ?it/s]\n",
      "100%|████████████████████████████████████████████████████████████████████████████████| 11/11 [00:00<00:00, 1289.83it/s]\u001b[A\n",
      "\n",
      "100%|███████████████████████████████████████████████████████████████████████████████████| 2/2 [00:00<00:00, 999.95it/s]\u001b[A\n",
      "\n",
      "100%|██████████████████████████████████████████████████████████████████████████████████| 2/2 [00:00<00:00, 1000.07it/s]\u001b[A\n",
      "\n",
      "100%|███████████████████████████████████████████████████████████████████████████████████| 2/2 [00:00<00:00, 667.03it/s]\u001b[A\n",
      "\n",
      "100%|██████████████████████████████████████████████████████████████████████████████████| 2/2 [00:00<00:00, 1000.31it/s]\u001b[A\n",
      "\n",
      "100%|███████████████████████████████████████████████████████████████████████████████████| 2/2 [00:00<00:00, 666.77it/s]\u001b[A\n",
      "\n",
      "100%|██████████████████████████████████████████████████████████████████████████████████| 2/2 [00:00<00:00, 1000.19it/s]\u001b[A\n",
      "\n",
      "100%|████████████████████████████████████████████████████████████████████████████████| 12/12 [00:00<00:00, 1333.01it/s]\u001b[A\n",
      "\n",
      "100%|███████████████████████████████████████████████████████████████████████████████████| 3/3 [00:00<00:00, 999.52it/s]\u001b[A\n",
      "\n",
      "100%|██████████████████████████████████████████████████████████████████████████████████| 4/4 [00:00<00:00, 1333.22it/s]\u001b[A\n",
      "\n",
      "100%|███████████████████████████████████████████████████████████████████████████████████| 2/2 [00:00<00:00, 667.25it/s]\u001b[A\n",
      "\n",
      "100%|██████████████████████████████████████████████████████████████████████████████████| 2/2 [00:00<00:00, 1000.43it/s]\u001b[A\n",
      "\n",
      "100%|██████████████████████████████████████████████████████████████████████████████████| 2/2 [00:00<00:00, 1001.39it/s]\u001b[A\n",
      "\n",
      "100%|██████████████████████████████████████████████████████████████████████████████████| 2/2 [00:00<00:00, 2002.05it/s]\u001b[A\n",
      "\n",
      "100%|██████████████████████████████████████████████████████████████████████████████████| 2/2 [00:00<00:00, 2000.14it/s]\u001b[A\n",
      "\n",
      "100%|███████████████████████████████████████████████████████████████████████████████████| 2/2 [00:00<00:00, 667.03it/s]\u001b[A\n",
      "\n",
      "100%|██████████████████████████████████████████████████████████████████████████████████| 9/9 [00:00<00:00, 2251.64it/s]\u001b[A\n",
      " 29%|███████████████████████▋                                                         | 17/58 [00:00<00:00, 169.93it/s]\n",
      "100%|███████████████████████████████████████████████████████████████████████████████████| 8/8 [00:00<00:00, 889.05it/s]\u001b[A\n",
      "\n",
      "100%|███████████████████████████████████████████████████████████████████████████████████| 1/1 [00:00<00:00, 999.12it/s]\u001b[A\n",
      "\n",
      "100%|███████████████████████████████████████████████████████████████████████████████████| 2/2 [00:00<00:00, 666.77it/s]\u001b[A\n",
      "\n",
      "100%|██████████████████████████████████████████████████████████████████████████████████| 2/2 [00:00<00:00, 1000.19it/s]\u001b[A\n",
      "\n",
      "100%|███████████████████████████████████████████████████████████████████████████████████| 2/2 [00:00<00:00, 666.93it/s]\u001b[A\n",
      "\n",
      "100%|███████████████████████████████████████████████████████████████████████████████████| 2/2 [00:00<00:00, 667.03it/s]\u001b[A\n",
      "\n",
      "100%|██████████████████████████████████████████████████████████████████████████████████| 2/2 [00:00<00:00, 1988.76it/s]\u001b[A\n",
      "\n",
      "100%|██████████████████████████████████████████████████████████████████████████████████| 2/2 [00:00<00:00, 1001.03it/s]\u001b[A\n",
      "\n",
      "100%|███████████████████████████████████████████████████████████████████████████████████| 2/2 [00:00<00:00, 665.82it/s]\u001b[A\n",
      "\n",
      "100%|███████████████████████████████████████████████████████████████████████████████████| 1/1 [00:00<00:00, 997.46it/s]\u001b[A\n",
      "\n",
      "100%|██████████████████████████████████████████████████████████████████████████████████| 2/2 [00:00<00:00, 1000.19it/s]\u001b[A\n",
      "\n",
      "100%|██████████████████████████████████████████████████████████████████████████████████| 1/1 [00:00<00:00, 1000.55it/s]\u001b[A\n",
      "\n",
      "100%|███████████████████████████████████████████████████████████████████████████████████| 1/1 [00:00<00:00, 999.60it/s]\u001b[A\n",
      "\n",
      "100%|██████████████████████████████████████████████████████████████████████████████████| 1/1 [00:00<00:00, 1001.03it/s]\u001b[A\n",
      "\n",
      "100%|██████████████████████████████████████████████████████████████████████████████████| 1/1 [00:00<00:00, 1000.07it/s]\u001b[A\n",
      "\n",
      "100%|███████████████████████████████████████████████████████████████████████████████████| 1/1 [00:00<00:00, 998.17it/s]\u001b[A\n",
      "\n",
      "100%|████████████████████████████████████████████████████████████████████████████████████████████| 1/1 [00:00<?, ?it/s]\u001b[A\n",
      "\n",
      "100%|██████████████████████████████████████████████████████████████████████████████████| 2/2 [00:00<00:00, 1000.19it/s]\u001b[A\n",
      "\n",
      "100%|███████████████████████████████████████████████████████████████████████████████████| 1/1 [00:00<00:00, 999.60it/s]\u001b[A\n",
      "\n",
      "100%|███████████████████████████████████████████████████████████████████████████████████| 1/1 [00:00<00:00, 999.36it/s]\u001b[A\n",
      "\n",
      "100%|███████████████████████████████████████████████████████████████████████████████████| 1/1 [00:00<00:00, 500.27it/s]\u001b[A\n",
      " 66%|█████████████████████████████████████████████████████                            | 38/58 [00:00<00:00, 192.91it/s]\n",
      "100%|██████████████████████████████████████████████████████████████████████████████████| 4/4 [00:00<00:00, 1332.58it/s]\u001b[A\n",
      "\n",
      "100%|██████████████████████████████████████████████████████████████████████████████████| 4/4 [00:00<00:00, 2000.62it/s]\u001b[A\n",
      "\n",
      "100%|███████████████████████████████████████████████████████████████████████████████████| 4/4 [00:00<00:00, 666.93it/s]\u001b[A\n",
      "\n",
      "100%|███████████████████████████████████████████████████████████████████████████████████| 9/9 [00:00<00:00, 817.99it/s]\u001b[A\n",
      "\n",
      "100%|███████████████████████████████████████████████████████████████████████████████████| 2/2 [00:00<00:00, 500.19it/s]\u001b[A\n",
      "\n",
      "100%|███████████████████████████████████████████████████████████████████████████████████| 2/2 [00:00<00:00, 333.17it/s]\u001b[A\n",
      "\n",
      "100%|███████████████████████████████████████████████████████████████████████████████████| 2/2 [00:00<00:00, 250.00it/s]\u001b[A\n",
      "\n",
      "100%|███████████████████████████████████████████████████████████████████████████████████| 2/2 [00:00<00:00, 500.01it/s]\u001b[A\n",
      "\n",
      "100%|███████████████████████████████████████████████████████████████████████████████████| 8/8 [00:00<00:00, 296.32it/s]\u001b[A\n",
      "\n",
      "100%|███████████████████████████████████████████████████████████████████████████████████| 7/7 [00:00<00:00, 218.73it/s]\u001b[A\n",
      "\n",
      "100%|███████████████████████████████████████████████████████████████████████████████████| 5/5 [00:00<00:00, 333.44it/s]\u001b[A\n",
      "\n",
      "100%|███████████████████████████████████████████████████████████████████████████████████| 5/5 [00:00<00:00, 333.42it/s]\u001b[A\n",
      "\n",
      "100%|███████████████████████████████████████████████████████████████████████████████████| 6/6 [00:00<00:00, 375.04it/s]\u001b[A\n",
      "\n",
      "100%|█████████████████████████████████████████████████████████████████████████████████| 19/19 [00:00<00:00, 383.77it/s]\u001b[A\n",
      "\n",
      "100%|███████████████████████████████████████████████████████████████████████████████████| 7/7 [00:00<00:00, 291.70it/s]\u001b[A\n",
      "\n",
      "  0%|                                                                                           | 0/58 [00:00<?, ?it/s]\u001b[A\n",
      "100%|█████████████████████████████████████████████████████████████████████████████████| 58/58 [00:00<00:00, 333.29it/s]\u001b[A\n",
      "\n",
      "100%|███████████████████████████████████████████████████████████████████████████████████| 5/5 [00:00<00:00, 416.88it/s]\u001b[A\n",
      "\n",
      "100%|███████████████████████████████████████████████████████████████████████████████████| 4/4 [00:00<00:00, 400.10it/s]\u001b[A\n",
      "\n",
      "100%|███████████████████████████████████████████████████████████████████████████████████| 8/8 [00:00<00:00, 296.27it/s]\u001b[A\n",
      "\n",
      "100%|███████████████████████████████████████████████████████████████████████████████████| 3/3 [00:00<00:00, 460.86it/s]\u001b[A\n",
      "100%|██████████████████████████████████████████████████████████████████████████████████| 58/58 [00:00<00:00, 77.27it/s]\n"
     ]
    }
   ],
   "source": [
    "# Data preprocess on new data\n",
    "\n",
    "# Missing values\n",
    "missing_values = joblib.load('data/utils/missing_values.pkl')\n",
    "for col in missing_values.keys():\n",
    "    test_df.loc[test_df[col].isnull(), col] = missing_values[col]\n",
    "\n",
    "# Encoding\n",
    "encoders = joblib.load('data/utils/encoders.pkl')\n",
    "for col in encoders.keys():\n",
    "    test_df[col] = encoders[col].transform(test_df[col])\n",
    "\n",
    "# Dummmy\n",
    "cat_cols = ['CNT_CHILDREN', 'FLAG_MOBIL', 'FLAG_EMP_PHONE', 'FLAG_WORK_PHONE', 'FLAG_CONT_MOBILE', 'FLAG_PHONE', 'FLAG_EMAIL', 'CNT_FAM_MEMBERS', 'REGION_RATING_CLIENT', 'REGION_RATING_CLIENT_W_CITY', 'REG_REGION_NOT_LIVE_REGION', 'REG_REGION_NOT_WORK_REGION', 'LIVE_REGION_NOT_WORK_REGION', 'REG_CITY_NOT_LIVE_CITY', 'REG_CITY_NOT_WORK_CITY', 'LIVE_CITY_NOT_WORK_CITY', 'DEF_30_CNT_SOCIAL_CIRCLE', 'DEF_60_CNT_SOCIAL_CIRCLE', 'FLAG_DOCUMENT_2', 'FLAG_DOCUMENT_3', 'FLAG_DOCUMENT_4', 'FLAG_DOCUMENT_5', 'FLAG_DOCUMENT_6', 'FLAG_DOCUMENT_7', 'FLAG_DOCUMENT_8', 'FLAG_DOCUMENT_9', 'FLAG_DOCUMENT_10', 'FLAG_DOCUMENT_11', 'FLAG_DOCUMENT_12', 'FLAG_DOCUMENT_13', 'FLAG_DOCUMENT_14', 'FLAG_DOCUMENT_15', 'FLAG_DOCUMENT_16', 'FLAG_DOCUMENT_17', 'FLAG_DOCUMENT_18', 'FLAG_DOCUMENT_19', 'FLAG_DOCUMENT_20', 'FLAG_DOCUMENT_21', 'AMT_REQ_CREDIT_BUREAU_HOUR', 'AMT_REQ_CREDIT_BUREAU_DAY', 'AMT_REQ_CREDIT_BUREAU_WEEK', 'AMT_REQ_CREDIT_BUREAU_QRT', 'NAME_CONTRACT_TYPE', 'CODE_GENDER', 'FLAG_OWN_CAR', 'FLAG_OWN_REALTY', 'NAME_TYPE_SUITE', 'NAME_INCOME_TYPE', 'NAME_EDUCATION_TYPE', 'NAME_FAMILY_STATUS', 'NAME_HOUSING_TYPE', 'OCCUPATION_TYPE', 'WEEKDAY_APPR_PROCESS_START', 'ORGANIZATION_TYPE', 'FONDKAPREMONT_MODE', 'HOUSETYPE_MODE', 'WALLSMATERIAL_MODE', 'EMERGENCYSTATE_MODE']\n",
    "for col in tqdm(cat_cols, total=len(cat_cols)):\n",
    "    for value in tqdm(test_df[col].unique()):\n",
    "        test_df[f'dummy_{col}_{value}'] = 0\n",
    "        test_df.loc[test_df[col]==value, f'dummy_{col}_{value}'] = 1"
   ]
  },
  {
   "cell_type": "code",
   "execution_count": 132,
   "id": "e1982cc7-aa15-4612-adb8-8304a3ae0b36",
   "metadata": {},
   "outputs": [],
   "source": [
    "# Prediction\n",
    "\n",
    "models = joblib.load('data/utils/models.pkl')\n",
    "num_cols = joblib.load('data/utils/num_cols.pkl')\n",
    "dummy_cols = joblib.load('data/utils/dummy_cols.pkl')\n",
    "\n",
    "for col in dummy_cols:\n",
    "    if col not in test_df.columns:\n",
    "        test_df[col] = 0\n",
    "\n",
    "y_pred = np.zeros(test_df.shape[0])\n",
    "for model in models:\n",
    "    y_pred += model.predict_proba(test_df[num_cols+dummy_cols])[:, 1]/len(models)\n",
    "\n",
    "test_df['TARGET'] = y_pred\n",
    "test_df[['SK_ID_CURR', 'TARGET']].to_csv('data/submission.csv', index=False)"
   ]
  }
 ],
 "metadata": {
  "kernelspec": {
   "display_name": "Python 3 (ipykernel)",
   "language": "python",
   "name": "python3"
  },
  "language_info": {
   "codemirror_mode": {
    "name": "ipython",
    "version": 3
   },
   "file_extension": ".py",
   "mimetype": "text/x-python",
   "name": "python",
   "nbconvert_exporter": "python",
   "pygments_lexer": "ipython3",
   "version": "3.10.11"
  }
 },
 "nbformat": 4,
 "nbformat_minor": 5
}
