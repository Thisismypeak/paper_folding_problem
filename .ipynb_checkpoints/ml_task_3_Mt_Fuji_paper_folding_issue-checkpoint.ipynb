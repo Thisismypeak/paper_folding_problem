{
 "cells": [
  {
   "cell_type": "markdown",
   "id": "b0f3f09b-0cde-404e-a8ff-437800249dd7",
   "metadata": {},
   "source": [
    "#### [Problem 1] How many times to fold paper to exceed the height of Mt.Fuji?"
   ]
  },
  {
   "cell_type": "code",
   "execution_count": 3,
   "id": "f9a09b83-7cd3-49f1-af45-f97d05c4f305",
   "metadata": {},
   "outputs": [
    {
     "name": "stdout",
     "output_type": "stream",
     "text": [
      "Number of folds 26 that paper can be higher than Mt.Fuji\n"
     ]
    }
   ],
   "source": [
    "import math\n",
    "\n",
    "thickness = 0.00008\n",
    "mt_fuji_height = 3776\n",
    "\n",
    "folds = math.ceil(math.log2(mt_fuji_height/thickness))\n",
    "print(f\"Number of folds {folds} that paper can be higher than Mt.Fuji\")"
   ]
  },
  {
   "cell_type": "code",
   "execution_count": 4,
   "id": "a2e2e97b-100a-406e-9333-b76fc2fceaf6",
   "metadata": {},
   "outputs": [
    {
     "name": "stdout",
     "output_type": "stream",
     "text": [
      "5368.70912\n"
     ]
    }
   ],
   "source": [
    "# checking \n",
    "print(thickness*(2**(folds)))"
   ]
  },
  {
   "cell_type": "markdown",
   "id": "700cf8db-2057-43d0-a1bc-095bb56128dd",
   "metadata": {},
   "source": [
    "#### [Problem 2] Function corresponding to arbitrary thickness"
   ]
  },
  {
   "cell_type": "code",
   "execution_count": 5,
   "id": "9f77a2c0-b3f9-4d36-b182-09842c4f87c0",
   "metadata": {},
   "outputs": [],
   "source": [
    "def compute_number_of_fold(height, \n",
    "                           thickness = 0.00008):\n",
    "    \"\"\" \n",
    "    A function that calculates the number of folds that can be higher than a given height.\n",
    "\n",
    "    Parameteres\n",
    "    -----------\n",
    "    height: float\n",
    "        A given height of object \n",
    "    thickness: float\n",
    "        a paper thickness (default = 0.00008)\n",
    "\n",
    "    Returns\n",
    "    -------\n",
    "    minimum number of folds : int\n",
    "        The number of folds that can be higher than a given height.\n",
    "    \"\"\"\n",
    "\n",
    "    # formula \n",
    "    fold_times = 0\n",
    "    while True:\n",
    "        thickness = thickness*2\n",
    "        fold_times+=1\n",
    "        if thickness>height:\n",
    "            break\n",
    "    \n",
    "    return fold_times"
   ]
  },
  {
   "cell_type": "code",
   "execution_count": 6,
   "id": "5898586d-7edd-41c0-81f1-75948ecb3d01",
   "metadata": {},
   "outputs": [
    {
     "name": "stdout",
     "output_type": "stream",
     "text": [
      "Number of folds =  69\n"
     ]
    }
   ],
   "source": [
    "## test \n",
    "distance_between_sun_and_earth = 4.0175*(10**16) #\"closest non-Sun star\".\n",
    "num_folds = compute_number_of_fold(height=distance_between_sun_and_earth, \n",
    "                                   thickness = 0.00008)\n",
    "\n",
    "print(\"Number of folds = \", num_folds)"
   ]
  },
  {
   "cell_type": "markdown",
   "id": "6d768661-1d30-4530-b8a7-0bad7e9243c8",
   "metadata": {},
   "source": [
    "#### [Problem 3] Required paper length"
   ]
  },
  {
   "cell_type": "code",
   "execution_count": 7,
   "id": "53533aa9-65a2-481a-a8e0-9719f5eef40b",
   "metadata": {},
   "outputs": [],
   "source": [
    "def compute_paper_length(number_of_folds, \n",
    "                         thickness = 0.00008):\n",
    "    \"\"\" \n",
    "    A function that calculates the paper length using a given number of folds.\n",
    "\n",
    "    Parameteres\n",
    "    -----------\n",
    "    number_of_folds: int\n",
    "        ## \n",
    "    thickness: float\n",
    "        a paper thickness (default = 0.00008)\n",
    "\n",
    "    Returns\n",
    "    -------\n",
    "    paper_length : float\n",
    "        #### \n",
    "    \"\"\"\n",
    "\n",
    "    # formula \n",
    "    pi = math.pi\n",
    "    paper_length = ((pi*thickness)/6)*(2**number_of_folds+4)*(2**number_of_folds-1)\n",
    "\n",
    "    return paper_length"
   ]
  },
  {
   "cell_type": "code",
   "execution_count": 8,
   "id": "eb8183fe-06ba-4352-ab09-17372d00c29e",
   "metadata": {},
   "outputs": [
    {
     "name": "stdout",
     "output_type": "stream",
     "text": [
      "The paper length to reach Moon = 3240919444170.78 million km.\n"
     ]
    }
   ],
   "source": [
    "### reach Moon #### \n",
    "folds = 43\n",
    "paper_length = compute_paper_length(number_of_folds=folds, \n",
    "                                    thickness = 0.00008)\n",
    "\n",
    "print(f\"The paper length to reach Moon = {round(paper_length/(1000*1000000), 2)} million km.\")"
   ]
  },
  {
   "cell_type": "code",
   "execution_count": 9,
   "id": "ae1b3374-4e1b-4f9b-847c-807784e90e34",
   "metadata": {},
   "outputs": [
    {
     "name": "stdout",
     "output_type": "stream",
     "text": [
      "The paper length to reach Mt.Fuji = 47.16 million km.\n"
     ]
    }
   ],
   "source": [
    "### reach Mt.Fuji #### \n",
    "folds = 25\n",
    "paper_length = compute_paper_length(number_of_folds=folds, \n",
    "                                    thickness = 0.00008)\n",
    "\n",
    "print(f\"The paper length to reach Mt.Fuji = {round(paper_length/(1000*1000000), 2)} million km.\")"
   ]
  },
  {
   "cell_type": "code",
   "execution_count": 10,
   "id": "5cf9669e-1d4d-43e6-87ae-e97102329a67",
   "metadata": {},
   "outputs": [
    {
     "name": "stdout",
     "output_type": "stream",
     "text": [
      "The paper length to reach Proxima Centauri = 1.459580360110035e+28 million km.\n"
     ]
    }
   ],
   "source": [
    "### reach Proxima Centauri #### \n",
    "folds = 69\n",
    "paper_length = compute_paper_length(number_of_folds=folds, \n",
    "                                    thickness = 0.00008)\n",
    "\n",
    "print(f\"The paper length to reach Proxima Centauri = {round(paper_length/(1000*1000000), 2)} million km.\")"
   ]
  }
 ],
 "metadata": {
  "kernelspec": {
   "display_name": "Python 3 (ipykernel)",
   "language": "python",
   "name": "python3"
  },
  "language_info": {
   "codemirror_mode": {
    "name": "ipython",
    "version": 3
   },
   "file_extension": ".py",
   "mimetype": "text/x-python",
   "name": "python",
   "nbconvert_exporter": "python",
   "pygments_lexer": "ipython3",
   "version": "3.10.11"
  }
 },
 "nbformat": 4,
 "nbformat_minor": 5
}
