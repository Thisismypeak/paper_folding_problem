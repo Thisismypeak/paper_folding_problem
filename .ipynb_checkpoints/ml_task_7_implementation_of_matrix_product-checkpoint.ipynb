{
 "cells": [
  {
   "cell_type": "markdown",
   "id": "25997743-d79c-48a1-8c63-21ef99249654",
   "metadata": {},
   "source": [
    "#### [Problem 1] Matrix product is calculated manually"
   ]
  },
  {
   "cell_type": "code",
   "execution_count": 1,
   "id": "c6cb9a85-c3bd-41c2-ab7e-8753a8f84fe3",
   "metadata": {},
   "outputs": [],
   "source": [
    "import numpy as np"
   ]
  },
  {
   "cell_type": "code",
   "execution_count": 2,
   "id": "0fff767b-482f-4765-9dac-ca4d713d75c3",
   "metadata": {},
   "outputs": [],
   "source": [
    "a_ndarray = np.array([[-1, 2, 3], [4, -5, 6], [7, 8, -9]])\n",
    "b_ndarray = np.array([[0, 2, 1], [0, 2, -8], [2, 9, -1]])"
   ]
  },
  {
   "cell_type": "code",
   "execution_count": 3,
   "id": "098c9f66-3906-4e12-8662-f80c566048c7",
   "metadata": {},
   "outputs": [
    {
     "data": {
      "text/plain": [
       "array([[-1,  2,  3],\n",
       "       [ 4, -5,  6],\n",
       "       [ 7,  8, -9]])"
      ]
     },
     "execution_count": 3,
     "metadata": {},
     "output_type": "execute_result"
    }
   ],
   "source": [
    "a_ndarray"
   ]
  },
  {
   "cell_type": "code",
   "execution_count": 4,
   "id": "5a110050-fbfd-4257-9989-2be0f476e386",
   "metadata": {},
   "outputs": [
    {
     "data": {
      "text/plain": [
       "array([[ 0,  2,  1],\n",
       "       [ 0,  2, -8],\n",
       "       [ 2,  9, -1]])"
      ]
     },
     "execution_count": 4,
     "metadata": {},
     "output_type": "execute_result"
    }
   ],
   "source": [
    "b_ndarray"
   ]
  },
  {
   "cell_type": "code",
   "execution_count": 5,
   "id": "89dd372b-40e1-49ea-973b-e7fd544d0583",
   "metadata": {},
   "outputs": [],
   "source": [
    "ab_mult = np.zeros((a_ndarray.shape[0], b_ndarray.shape[1]))"
   ]
  },
  {
   "cell_type": "code",
   "execution_count": 6,
   "id": "90ec989f-7e92-4a6d-829d-472c0e1f8835",
   "metadata": {},
   "outputs": [
    {
     "data": {
      "text/plain": [
       "array([[  6.,  29., -20.],\n",
       "       [ 12.,  52.,  38.],\n",
       "       [-18., -51., -48.]])"
      ]
     },
     "execution_count": 6,
     "metadata": {},
     "output_type": "execute_result"
    }
   ],
   "source": [
    "for i in range(a_ndarray.shape[0]):\n",
    "    for j in range(b_ndarray.shape[1]):\n",
    "        ab_mult[i, j] = np.sum(a_ndarray[i, :]*b_ndarray[:, j])\n",
    "\n",
    "ab_mult"
   ]
  },
  {
   "cell_type": "code",
   "execution_count": 7,
   "id": "7d468db2-e7c1-4b1f-90f6-748fb7dbd32c",
   "metadata": {},
   "outputs": [],
   "source": [
    "# The element of the matrix to be multiplied is:\n",
    "# the row elements of the matrix multiplied by the elements of the next matrix column and added together."
   ]
  },
  {
   "cell_type": "code",
   "execution_count": 8,
   "id": "cd43107c-b3c8-44a4-9af7-b740a86bea1e",
   "metadata": {},
   "outputs": [],
   "source": [
    "# checking"
   ]
  },
  {
   "cell_type": "code",
   "execution_count": 9,
   "id": "70536b3f-bc64-4b7d-b2e4-cc6e161a58e5",
   "metadata": {},
   "outputs": [
    {
     "data": {
      "text/plain": [
       "6"
      ]
     },
     "execution_count": 9,
     "metadata": {},
     "output_type": "execute_result"
    }
   ],
   "source": [
    "-1*0 + 2*0 + 3*2"
   ]
  },
  {
   "cell_type": "code",
   "execution_count": 10,
   "id": "2de8e6d2-c447-4914-8131-e9e14e7b3fe0",
   "metadata": {},
   "outputs": [
    {
     "data": {
      "text/plain": [
       "29"
      ]
     },
     "execution_count": 10,
     "metadata": {},
     "output_type": "execute_result"
    }
   ],
   "source": [
    "-1*2 + 2*2 + 3*9"
   ]
  },
  {
   "cell_type": "code",
   "execution_count": 11,
   "id": "b248536c-edc9-413e-b7a3-d001954be52d",
   "metadata": {},
   "outputs": [
    {
     "data": {
      "text/plain": [
       "-20"
      ]
     },
     "execution_count": 11,
     "metadata": {},
     "output_type": "execute_result"
    }
   ],
   "source": [
    "-1*1 + 2*-8 + 3*-1"
   ]
  },
  {
   "cell_type": "code",
   "execution_count": 12,
   "id": "925661cc-30f9-4eef-9af6-7f1f092169a0",
   "metadata": {},
   "outputs": [
    {
     "data": {
      "text/plain": [
       "12"
      ]
     },
     "execution_count": 12,
     "metadata": {},
     "output_type": "execute_result"
    }
   ],
   "source": [
    "4*0 + -5*0 + 6*2"
   ]
  },
  {
   "cell_type": "code",
   "execution_count": 13,
   "id": "723d9d83-4486-4e87-a722-bec19d7a6073",
   "metadata": {},
   "outputs": [],
   "source": [
    "# etc"
   ]
  },
  {
   "cell_type": "markdown",
   "id": "47faba85-f068-415f-aa43-9435e6cc8ba5",
   "metadata": {},
   "source": [
    "#### [Problem 2] Calculation by NumPy function"
   ]
  },
  {
   "cell_type": "code",
   "execution_count": 14,
   "id": "11ff4cbe-d1ac-4b3f-8682-93f78d5499b0",
   "metadata": {},
   "outputs": [
    {
     "data": {
      "text/plain": [
       "array([[  6,  29, -20],\n",
       "       [ 12,  52,  38],\n",
       "       [-18, -51, -48]])"
      ]
     },
     "execution_count": 14,
     "metadata": {},
     "output_type": "execute_result"
    }
   ],
   "source": [
    "ab_matmul = np.matmul(a_ndarray, b_ndarray)\n",
    "ab_matmul"
   ]
  },
  {
   "cell_type": "code",
   "execution_count": 15,
   "id": "4289c5d9-856e-4727-a465-286dac381f61",
   "metadata": {},
   "outputs": [
    {
     "data": {
      "text/plain": [
       "array([[  6,  29, -20],\n",
       "       [ 12,  52,  38],\n",
       "       [-18, -51, -48]])"
      ]
     },
     "execution_count": 15,
     "metadata": {},
     "output_type": "execute_result"
    }
   ],
   "source": [
    "ab_dot = np.dot(a_ndarray, b_ndarray)\n",
    "ab_dot"
   ]
  },
  {
   "cell_type": "code",
   "execution_count": 16,
   "id": "0bf42b1c-a980-4565-bb6a-0691ef5a7cfc",
   "metadata": {},
   "outputs": [
    {
     "data": {
      "text/plain": [
       "array([[  6,  29, -20],\n",
       "       [ 12,  52,  38],\n",
       "       [-18, -51, -48]])"
      ]
     },
     "execution_count": 16,
     "metadata": {},
     "output_type": "execute_result"
    }
   ],
   "source": [
    "ab_at = a_ndarray@b_ndarray\n",
    "ab_at"
   ]
  },
  {
   "cell_type": "markdown",
   "id": "4ab840f2-69e2-45a9-8a0d-0aa11b62aa31",
   "metadata": {},
   "source": [
    "#### [Problem 3] Implementation of calculation of a certain element"
   ]
  },
  {
   "cell_type": "code",
   "execution_count": 17,
   "id": "7d0743c6-aebf-4383-983b-d0b6434e8f54",
   "metadata": {},
   "outputs": [
    {
     "data": {
      "text/plain": [
       "array([[  6.,  29., -20.],\n",
       "       [ 12.,  52.,  38.],\n",
       "       [-18., -51., -48.]])"
      ]
     },
     "execution_count": 17,
     "metadata": {},
     "output_type": "execute_result"
    }
   ],
   "source": [
    "a = a_ndarray\n",
    "b = b_ndarray\n",
    "ab_mult = np.zeros((a.shape[0], b.shape[1]))\n",
    "\n",
    "for i in range(a.shape[0]):\n",
    "    for j in range(b.shape[1]):\n",
    "        for k in range(b.shape[0]):\n",
    "            ab_mult[i][j] += a[i][k] * b[k][j]\n",
    "\n",
    "ab_mult"
   ]
  },
  {
   "cell_type": "markdown",
   "id": "959a5bed-1cb1-44f0-bd28-6c0a9964fed6",
   "metadata": {},
   "source": [
    "#### [Problem 4] Creating a function that performs matrix multiplication"
   ]
  },
  {
   "cell_type": "code",
   "execution_count": 18,
   "id": "078ff0a5-ca98-403e-aa3c-354963f7576e",
   "metadata": {},
   "outputs": [],
   "source": [
    "def matrix_multiplication(a, b):\n",
    "\n",
    "    # This is explanation of matrix multiplication function.\n",
    "    \n",
    "    # We have three matrices: a , b and ab_mult\n",
    "    # i, j and k indices are representing rows and columns in these matrices\n",
    "    # The expression ab_mult[i][j] represents the element in the i-th row and j-th column of the resulting matrix ab_mult\n",
    "    # ab_mult[i][j] is updated by adding the a[i][k] and b[k][j] for all k from 1 to n.\n",
    "    \n",
    "    assert a.shape[0]==b.shape[1], \"Matrix dim is not suitable\"  # Error message\n",
    "    \n",
    "    ab_mult = np.zeros((a.shape[0], b.shape[1]))\n",
    "    \n",
    "    for i in range(a.shape[0]):\n",
    "        for j in range(b.shape[1]):\n",
    "            for k in range(b.shape[0]):\n",
    "                ab_mult[i][j] += a[i][k] * b[k][j]\n",
    "\n",
    "    return ab_mult"
   ]
  },
  {
   "cell_type": "code",
   "execution_count": 19,
   "id": "5f5fda05-2d9a-414f-89d7-5970d4e6db30",
   "metadata": {},
   "outputs": [
    {
     "data": {
      "text/plain": [
       "array([[  6.,  29., -20.],\n",
       "       [ 12.,  52.,  38.],\n",
       "       [-18., -51., -48.]])"
      ]
     },
     "execution_count": 19,
     "metadata": {},
     "output_type": "execute_result"
    }
   ],
   "source": [
    "matrix_multiplication(a_ndarray, b_ndarray)"
   ]
  },
  {
   "cell_type": "markdown",
   "id": "6ce35d30-ed19-4dc0-9eae-851e4114c5b4",
   "metadata": {},
   "source": [
    "#### [Problem 5] Judge the input whose calculation is not defined"
   ]
  },
  {
   "cell_type": "code",
   "execution_count": 20,
   "id": "68573b21-6276-4a9a-a346-0117389bb6ad",
   "metadata": {},
   "outputs": [],
   "source": [
    "d_ndarray = np.array([[-1, 2, 3], [4, -5, 6]])\n",
    "e_ndarray = np.array([[-9, 8, 7], [6, -5, 4]])"
   ]
  },
  {
   "cell_type": "code",
   "execution_count": 21,
   "id": "9e3364cf-dfb8-4192-bcf2-07e3d33fc578",
   "metadata": {},
   "outputs": [
    {
     "ename": "AssertionError",
     "evalue": "Matrix dim is not suitable",
     "output_type": "error",
     "traceback": [
      "\u001b[1;31m---------------------------------------------------------------------------\u001b[0m",
      "\u001b[1;31mAssertionError\u001b[0m                            Traceback (most recent call last)",
      "Cell \u001b[1;32mIn[21], line 1\u001b[0m\n\u001b[1;32m----> 1\u001b[0m \u001b[43mmatrix_multiplication\u001b[49m\u001b[43m(\u001b[49m\u001b[43md_ndarray\u001b[49m\u001b[43m,\u001b[49m\u001b[43m \u001b[49m\u001b[43me_ndarray\u001b[49m\u001b[43m)\u001b[49m\n",
      "Cell \u001b[1;32mIn[18], line 10\u001b[0m, in \u001b[0;36mmatrix_multiplication\u001b[1;34m(a, b)\u001b[0m\n\u001b[0;32m      1\u001b[0m \u001b[38;5;28;01mdef\u001b[39;00m \u001b[38;5;21mmatrix_multiplication\u001b[39m(a, b):\n\u001b[0;32m      2\u001b[0m \n\u001b[0;32m      3\u001b[0m     \u001b[38;5;66;03m# This is explanation of matrix multiplication function.\u001b[39;00m\n\u001b[1;32m   (...)\u001b[0m\n\u001b[0;32m      7\u001b[0m     \u001b[38;5;66;03m# The expression ab_mult[i][j] represents the element in the i-th row and j-th column of the resulting matrix ab_mult\u001b[39;00m\n\u001b[0;32m      8\u001b[0m     \u001b[38;5;66;03m# ab_mult[i][j] is updated by adding the a[i][k] and b[k][j] for all k from 1 to n.\u001b[39;00m\n\u001b[1;32m---> 10\u001b[0m     \u001b[38;5;28;01massert\u001b[39;00m a\u001b[38;5;241m.\u001b[39mshape[\u001b[38;5;241m0\u001b[39m]\u001b[38;5;241m==\u001b[39mb\u001b[38;5;241m.\u001b[39mshape[\u001b[38;5;241m1\u001b[39m], \u001b[38;5;124m\"\u001b[39m\u001b[38;5;124mMatrix dim is not suitable\u001b[39m\u001b[38;5;124m\"\u001b[39m  \u001b[38;5;66;03m# Error message\u001b[39;00m\n\u001b[0;32m     12\u001b[0m     ab_mult \u001b[38;5;241m=\u001b[39m np\u001b[38;5;241m.\u001b[39mzeros((a\u001b[38;5;241m.\u001b[39mshape[\u001b[38;5;241m0\u001b[39m], b\u001b[38;5;241m.\u001b[39mshape[\u001b[38;5;241m1\u001b[39m]))\n\u001b[0;32m     14\u001b[0m     \u001b[38;5;28;01mfor\u001b[39;00m i \u001b[38;5;129;01min\u001b[39;00m \u001b[38;5;28mrange\u001b[39m(a\u001b[38;5;241m.\u001b[39mshape[\u001b[38;5;241m0\u001b[39m]):\n",
      "\u001b[1;31mAssertionError\u001b[0m: Matrix dim is not suitable"
     ]
    }
   ],
   "source": [
    "matrix_multiplication(d_ndarray, e_ndarray)"
   ]
  },
  {
   "cell_type": "markdown",
   "id": "e4d5a2cd-f2db-456b-bc2d-ec983cac7b03",
   "metadata": {},
   "source": [
    "#### [Problem 6] Transposition"
   ]
  },
  {
   "cell_type": "code",
   "execution_count": null,
   "id": "76814ac2-e63f-4ac7-bf55-f2e516800324",
   "metadata": {},
   "outputs": [],
   "source": [
    "print(e_ndarray)\n",
    "np.transpose(e_ndarray)"
   ]
  },
  {
   "cell_type": "code",
   "execution_count": null,
   "id": "458ba1b5-b7b2-4fe1-9b7f-37c4d47c23b7",
   "metadata": {},
   "outputs": [],
   "source": [
    "e_ndarray.T"
   ]
  },
  {
   "cell_type": "code",
   "execution_count": 22,
   "id": "acd2bc2f-2327-4efa-844d-bb38b207f140",
   "metadata": {},
   "outputs": [
    {
     "data": {
      "text/plain": [
       "array([[ 46.,  -4.],\n",
       "       [-34.,  73.]])"
      ]
     },
     "execution_count": 22,
     "metadata": {},
     "output_type": "execute_result"
    }
   ],
   "source": [
    "matrix_multiplication(d_ndarray, e_ndarray.T)"
   ]
  }
 ],
 "metadata": {
  "kernelspec": {
   "display_name": "Python 3 (ipykernel)",
   "language": "python",
   "name": "python3"
  },
  "language_info": {
   "codemirror_mode": {
    "name": "ipython",
    "version": 3
   },
   "file_extension": ".py",
   "mimetype": "text/x-python",
   "name": "python",
   "nbconvert_exporter": "python",
   "pygments_lexer": "ipython3",
   "version": "3.10.11"
  }
 },
 "nbformat": 4,
 "nbformat_minor": 5
}
